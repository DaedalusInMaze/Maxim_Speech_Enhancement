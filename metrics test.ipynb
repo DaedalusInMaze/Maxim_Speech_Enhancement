{
 "cells": [
  {
   "cell_type": "code",
   "execution_count": 14,
   "id": "dabc629c",
   "metadata": {},
   "outputs": [],
   "source": [
    "from scipy.io import wavfile\n",
    "import sys\n",
    "sys.path.append(\"../\") \n",
    "import pysepm"
   ]
  },
  {
   "cell_type": "code",
   "execution_count": 2,
   "id": "b8a77eb8",
   "metadata": {},
   "outputs": [],
   "source": [
    "fs, clean_speech = wavfile.read('recovered/clean_speech.wav')\n",
    "fs, noisy_speech = wavfile.read('recovered/mixed_speech.wav')\n",
    "fs, enhanced_speech = wavfile.read('recovered/recovered_speech.wav')"
   ]
  },
  {
   "cell_type": "code",
   "execution_count": 6,
   "id": "3c07cd45",
   "metadata": {},
   "outputs": [
    {
     "data": {
      "text/plain": [
       "35.0"
      ]
     },
     "execution_count": 6,
     "metadata": {},
     "output_type": "execute_result"
    }
   ],
   "source": [
    "pysepm.fwSNRseg(clean_speech, noisy_speech, fs)"
   ]
  },
  {
   "cell_type": "code",
   "execution_count": 5,
   "id": "f401b572",
   "metadata": {},
   "outputs": [
    {
     "data": {
      "text/plain": [
       "2.692064347630704"
      ]
     },
     "execution_count": 5,
     "metadata": {},
     "output_type": "execute_result"
    }
   ],
   "source": [
    "pysepm.fwSNRseg(clean_speech, enhanced_speech, fs)"
   ]
  },
  {
   "cell_type": "code",
   "execution_count": 7,
   "id": "81656151",
   "metadata": {},
   "outputs": [
    {
     "data": {
      "text/plain": [
       "-5.928493239827281"
      ]
     },
     "execution_count": 7,
     "metadata": {},
     "output_type": "execute_result"
    }
   ],
   "source": [
    "pysepm.SNRseg(clean_speech, noisy_speech, fs)"
   ]
  },
  {
   "cell_type": "code",
   "execution_count": 8,
   "id": "6972db14",
   "metadata": {},
   "outputs": [
    {
     "data": {
      "text/plain": [
       "-8.521192740738172"
      ]
     },
     "execution_count": 8,
     "metadata": {},
     "output_type": "execute_result"
    }
   ],
   "source": [
    "pysepm.SNRseg(clean_speech, enhanced_speech, fs)"
   ]
  },
  {
   "cell_type": "code",
   "execution_count": 9,
   "id": "c7b495d2",
   "metadata": {},
   "outputs": [
    {
     "data": {
      "text/plain": [
       "1.3036900516322814"
      ]
     },
     "execution_count": 9,
     "metadata": {},
     "output_type": "execute_result"
    }
   ],
   "source": [
    "pysepm.llr(clean_speech, noisy_speech, fs)"
   ]
  },
  {
   "cell_type": "code",
   "execution_count": 10,
   "id": "02c86dfd",
   "metadata": {},
   "outputs": [
    {
     "data": {
      "text/plain": [
       "1.0022826657378685"
      ]
     },
     "execution_count": 10,
     "metadata": {},
     "output_type": "execute_result"
    }
   ],
   "source": [
    "pysepm.llr(clean_speech, enhanced_speech, fs)"
   ]
  },
  {
   "cell_type": "code",
   "execution_count": 11,
   "id": "fcbc7e50",
   "metadata": {},
   "outputs": [
    {
     "data": {
      "text/plain": [
       "50.08155988358379"
      ]
     },
     "execution_count": 11,
     "metadata": {},
     "output_type": "execute_result"
    }
   ],
   "source": [
    "pysepm.wss(clean_speech, noisy_speech, fs)"
   ]
  },
  {
   "cell_type": "code",
   "execution_count": 12,
   "id": "3e2af9c7",
   "metadata": {},
   "outputs": [
    {
     "data": {
      "text/plain": [
       "54.25818350225464"
      ]
     },
     "execution_count": 12,
     "metadata": {},
     "output_type": "execute_result"
    }
   ],
   "source": [
    "pysepm.wss(clean_speech, enhanced_speech, fs)"
   ]
  },
  {
   "cell_type": "code",
   "execution_count": 20,
   "id": "b500c5c8",
   "metadata": {},
   "outputs": [
    {
     "data": {
      "text/plain": [
       "0.6822685231082994"
      ]
     },
     "execution_count": 20,
     "metadata": {},
     "output_type": "execute_result"
    }
   ],
   "source": [
    "pysepm.stoi.stoi(clean_speech, noisy_speech, fs)"
   ]
  },
  {
   "cell_type": "code",
   "execution_count": 21,
   "id": "f6a68936",
   "metadata": {},
   "outputs": [
    {
     "data": {
      "text/plain": [
       "0.6412384311703361"
      ]
     },
     "execution_count": 21,
     "metadata": {},
     "output_type": "execute_result"
    }
   ],
   "source": [
    "pysepm.stoi.stoi(clean_speech, enhanced_speech, fs)"
   ]
  },
  {
   "cell_type": "code",
   "execution_count": null,
   "id": "646fed2f",
   "metadata": {},
   "outputs": [],
   "source": []
  }
 ],
 "metadata": {
  "kernelspec": {
   "display_name": "Python 3 (ipykernel)",
   "language": "python",
   "name": "python3"
  },
  "language_info": {
   "codemirror_mode": {
    "name": "ipython",
    "version": 3
   },
   "file_extension": ".py",
   "mimetype": "text/x-python",
   "name": "python",
   "nbconvert_exporter": "python",
   "pygments_lexer": "ipython3",
   "version": "3.8.12"
  }
 },
 "nbformat": 4,
 "nbformat_minor": 5
}
