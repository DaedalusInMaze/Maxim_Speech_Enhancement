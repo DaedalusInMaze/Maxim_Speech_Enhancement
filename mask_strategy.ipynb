{
 "cells": [
  {
   "cell_type": "code",
   "execution_count": 1,
   "id": "96976913-0ab5-4be3-a2d9-248c46a4fa20",
   "metadata": {},
   "outputs": [],
   "source": [
    "import librosa\n",
    "import numpy as np\n",
    "import matplotlib.pyplot as plt"
   ]
  },
  {
   "cell_type": "markdown",
   "id": "594a6377-d4e3-4031-8872-38d06b34df71",
   "metadata": {},
   "source": [
    "Y: mixed speech, X: clean speech, N: noise speech \\\n",
    "where Y = X + N"
   ]
  },
  {
   "cell_type": "code",
   "execution_count": 2,
   "id": "96c45a88-bf81-4ef6-b131-f8e00f7d9c36",
   "metadata": {},
   "outputs": [],
   "source": [
    "def irm(x, n):\n",
    "    \"\"\"\n",
    "    ideal ratio mask\n",
    "    \"\"\"\n",
    "    x = librosa.core.stft(x, 256, 128)\n",
    "    n = librosa.core.stft(n, 256, 128)\n",
    "    return (np.abs(x) ** 2 / (np.abs(x) ** 2 + np.abs(n) ** 2)) ** 0.5"
   ]
  },
  {
   "cell_type": "code",
   "execution_count": 3,
   "id": "00342ddd-4695-4a1d-a4ac-041a68bf8305",
   "metadata": {},
   "outputs": [],
   "source": [
    "def iam(x, y):\n",
    "    \"\"\"\n",
    "    ideal amplitude mask\n",
    "    \"\"\"\n",
    "    x = librosa.core.stft(x, 256, 128)\n",
    "    y = librosa.core.stft(y, 256, 128)\n",
    "    return np.abs(x) / np.abs(y)"
   ]
  },
  {
   "cell_type": "code",
   "execution_count": 4,
   "id": "ddea4df8-8c4f-4b9e-a5cb-be5d34e8b54d",
   "metadata": {},
   "outputs": [],
   "source": [
    "def psm(x, y):\n",
    "    \"\"\"\n",
    "    phase sensitive mask\n",
    "    \"\"\"\n",
    "    x = librosa.core.stft(x, 256, 128)\n",
    "    y = librosa.core.stft(y, 256, 128)\n",
    "    return np.abs(x) / np.abs(y) * np.cos(np.angle(y) + np.angle(x))"
   ]
  },
  {
   "cell_type": "code",
   "execution_count": 5,
   "id": "513e270c-6a00-435a-82c4-260111f742b2",
   "metadata": {},
   "outputs": [],
   "source": [
    "def orm(x, n):\n",
    "    \"\"\"\n",
    "    optimal ratio mask\n",
    "    \"\"\"\n",
    "    x = librosa.core.stft(x, 256, 128)\n",
    "    n = librosa.core.stft(n, 256, 128)\n",
    "    return (np.abs(x)**2 + np.real(x * np.conj(n))) / (np.abs(x)**2 + np.abs(n)**2 + 2 * np.real(x * np.conj(n)))"
   ]
  },
  {
   "cell_type": "code",
   "execution_count": 100,
   "id": "99486e7b-8502-4027-9851-98178a03d292",
   "metadata": {},
   "outputs": [],
   "source": [
    "clean, fs = librosa.load(f'D:/se/recovered/clean_speech_{3}.wav', 16000)"
   ]
  },
  {
   "cell_type": "code",
   "execution_count": 101,
   "id": "5569a163-4cd8-4c58-8864-d948c2653941",
   "metadata": {},
   "outputs": [],
   "source": [
    "noise, fs = librosa.load(f'testnoise/helicopter.wav', 16000)"
   ]
  },
  {
   "cell_type": "code",
   "execution_count": 102,
   "id": "cd7ea609-f7c7-429d-9122-99000baf9b83",
   "metadata": {},
   "outputs": [],
   "source": [
    "n = int(600 / ( len(noise)/ fs))"
   ]
  },
  {
   "cell_type": "code",
   "execution_count": 103,
   "id": "136ef6e8-1dee-4dd3-9e44-33d393b99717",
   "metadata": {},
   "outputs": [],
   "source": [
    "noise = np.concatenate([noise] * n)"
   ]
  },
  {
   "cell_type": "code",
   "execution_count": 104,
   "id": "7c89b7d7-beea-4ad9-9851-7c9e4741126d",
   "metadata": {},
   "outputs": [],
   "source": [
    "noise = noise[:len(clean)]"
   ]
  },
  {
   "cell_type": "code",
   "execution_count": 105,
   "id": "dff6214e-04fd-49ff-9480-ed3bcc5bb4a8",
   "metadata": {},
   "outputs": [],
   "source": [
    "mask = osm(clean, noise)"
   ]
  },
  {
   "cell_type": "code",
   "execution_count": null,
   "id": "62b66193-6222-47e2-83a2-a994aff8577f",
   "metadata": {},
   "outputs": [],
   "source": []
  }
 ],
 "metadata": {
  "kernelspec": {
   "display_name": "Python 3 (ipykernel)",
   "language": "python",
   "name": "python3"
  },
  "language_info": {
   "codemirror_mode": {
    "name": "ipython",
    "version": 3
   },
   "file_extension": ".py",
   "mimetype": "text/x-python",
   "name": "python",
   "nbconvert_exporter": "python",
   "pygments_lexer": "ipython3",
   "version": "3.8.12"
  }
 },
 "nbformat": 4,
 "nbformat_minor": 5
}
